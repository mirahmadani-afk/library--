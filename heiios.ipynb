{
  "nbformat": 4,
  "nbformat_minor": 0,
  "metadata": {
    "colab": {
      "private_outputs": true,
      "provenance": [],
      "cell_execution_strategy": "setup",
      "history_visible": true,
      "authorship_tag": "ABX9TyOwYcqtOA0wjTnwu8oO4r/p",
      "include_colab_link": true
    },
    "kernelspec": {
      "name": "python3",
      "display_name": "Python 3"
    },
    "language_info": {
      "name": "python"
    }
  },
  "cells": [
    {
      "cell_type": "markdown",
      "metadata": {
        "id": "view-in-github",
        "colab_type": "text"
      },
      "source": [
        "<a href=\"https://colab.research.google.com/github/mirahmadani-afk/library--/blob/master/heiios.ipynb\" target=\"_parent\"><img src=\"https://colab.research.google.com/assets/colab-badge.svg\" alt=\"Open In Colab\"/></a>"
      ]
    },
    {
      "cell_type": "code",
      "source": [],
      "metadata": {
        "id": "7YoaSqSTwGfJ"
      },
      "execution_count": null,
      "outputs": []
    },
    {
      "cell_type": "markdown",
      "source": [],
      "metadata": {
        "id": "7ewPkuyRz4F0"
      }
    },
    {
      "cell_type": "code",
      "source": [],
      "metadata": {
        "id": "HwtSAaKsvdwB"
      },
      "execution_count": null,
      "outputs": []
    },
    {
      "cell_type": "markdown",
      "metadata": {
        "id": "4b62ab2b"
      },
      "source": [
        "Let's start with a simple \"Hello, World!\" example in C."
      ]
    },
    {
      "cell_type": "code",
      "metadata": {
        "id": "a54e401b"
      },
      "source": [
        "%%writefile hello.c\n",
        "#include <stdio.h>\n",
        "\n",
        "int main() {\n",
        "    printf(\"Hello, World!\\n\");\n",
        "    return 0;\n",
        "}"
      ],
      "execution_count": null,
      "outputs": []
    },
    {
      "cell_type": "markdown",
      "metadata": {
        "id": "9f550d44"
      },
      "source": [
        "Now, we'll compile and run the C code using the `%%shell` magic command."
      ]
    },
    {
      "cell_type": "code",
      "metadata": {
        "id": "63d25ec0"
      },
      "source": [
        "%%shell\n",
        "# Compile the C code\n",
        "gcc hello.c -o hello\n",
        "\n",
        "# Run the compiled executable\n",
        "./hello"
      ],
      "execution_count": null,
      "outputs": []
    }
  ]
}